{
 "cells": [
  {
   "cell_type": "code",
   "execution_count": null,
   "metadata": {},
   "outputs": [],
   "source": [
    "num1 = float(input(\"Entera number:\"))\n",
    "num2 = float(input(\"Entera number:\"))\n",
    "print(num1+num2)\n"
   ]
  },
  {
   "cell_type": "code",
   "execution_count": null,
   "metadata": {},
   "outputs": [],
   "source": [
    "import random\n",
    "\n",
    "num = random.randint(0,10)\n",
    "\n",
    "tri = int(input(\"Enter the number of trails or enter 0:\"))\n",
    "if tri == 0:\n",
    "    tri = random.randint(4,10)\n",
    "\n",
    "counter = 0\n",
    "print(\"The computer has generated a number between 0 and 10\")\n",
    "\n",
    "while tri > 0:\n",
    "    guess = int(input(\"Guess the number:\"))\n",
    "    counter += 1\n",
    "    tri -= 1\n",
    "    if guess > num:\n",
    "        print(\"Too high.\")\n",
    "    if guess < num:\n",
    "        print(\"Too low.\")\n",
    "    if guess == num:\n",
    "        break\n",
    "\n",
    "if guess == num:\n",
    "    if counter == 1:\n",
    "        print(\"That's amazing. You guessed the number in 1 try.\")\n",
    "    else:\n",
    "        print(\"That's corret. You guessed the number in \" + str(counter) + \" tries.\")\n",
    "if guess != num:\n",
    "    print(\"Sorry, the correct number is\",(num+1))"
   ]
  },
  {
   "cell_type": "code",
   "execution_count": null,
   "metadata": {
    "scrolled": true
   },
   "outputs": [],
   "source": [
    "import random\n",
    "\n",
    "num = random.randint(0,10)\n",
    "\n",
    "tri = int(input(\"Enter the number of trails:\"))\n",
    "if tri == 0:\n",
    "    tri = random.randint(4,10)\n",
    "    \n",
    "print(\"The computer has generated a number between 0 and 10\")\n",
    "for i in range(tri):\n",
    "    guess = int(input(\"Guess the number:\"))\n",
    "    if guess > num:\n",
    "        print(\"Too high.\")\n",
    "    if guess < num:\n",
    "        print(\"Too low.\")\n",
    "    if guess == num:\n",
    "        break\n",
    "\n",
    "if guess == num:      \n",
    "    print(\"That's corret. You guessed the number in \" + str(i+1) + \" tries.\")\n",
    "if guess != num:\n",
    "    print(\"Sorry, the correct number is\",(num+1))\n",
    "    "
   ]
  },
  {
   "cell_type": "code",
   "execution_count": null,
   "metadata": {},
   "outputs": [],
   "source": [
    "i = 100\n",
    "while i > 0:\n",
    "    print(\"PYTHON\")\n",
    "    counter=counter-1\n"
   ]
  },
  {
   "cell_type": "code",
   "execution_count": null,
   "metadata": {},
   "outputs": [],
   "source": [
    "py = \"PYTHON\\n\"\n",
    "print(py*100)"
   ]
  },
  {
   "cell_type": "code",
   "execution_count": null,
   "metadata": {},
   "outputs": [],
   "source": [
    "import turtle\n",
    "\n",
    "turtle.shape('turtle')\n",
    "x=0\n",
    "for x in range (100):\n",
    "    for i in range(4):\n",
    "        turtle.forward(250)\n",
    "        turtle.left(90)\n",
    "    turtle.left(5)\n",
    "    "
   ]
  }
 ],
 "metadata": {
  "kernelspec": {
   "display_name": "Python 3",
   "language": "python",
   "name": "python3"
  },
  "language_info": {
   "codemirror_mode": {
    "name": "ipython",
    "version": 3
   },
   "file_extension": ".py",
   "mimetype": "text/x-python",
   "name": "python",
   "nbconvert_exporter": "python",
   "pygments_lexer": "ipython3",
   "version": "3.8.5"
  }
 },
 "nbformat": 4,
 "nbformat_minor": 4
}
