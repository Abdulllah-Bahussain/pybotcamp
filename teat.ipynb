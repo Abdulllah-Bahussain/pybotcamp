{
  "nbformat": 4,
  "nbformat_minor": 0,
  "metadata": {
    "colab": {
      "name": "Untitled0.ipynb",
      "provenance": []
    },
    "kernelspec": {
      "name": "python3",
      "display_name": "Python 3"
    }
  },
  "cells": [
    {
      "cell_type": "code",
      "metadata": {
        "id": "ey9-SvKHYFhE"
      },
      "source": [
        "name = input(\"what's  your name? \")\r\n",
        "print ( \"Hello \" + name + \". Nice to meet you.\\n\"  )\r\n"
      ],
      "execution_count": null,
      "outputs": []
    },
    {
      "cell_type": "code",
      "metadata": {
        "id": "OpVsY6m3aeOU"
      },
      "source": [
        "n1 = float(input(\"Please enter two fractions: \\n\"))\r\n",
        "n2 = float(input())\r\n",
        "print( (n1)+(n2) )\r\n"
      ],
      "execution_count": null,
      "outputs": []
    }
  ]
}